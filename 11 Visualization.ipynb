{
 "cells": [
  {
   "cell_type": "code",
   "execution_count": null,
   "metadata": {},
   "outputs": [],
   "source": []
  }
 ],
 "metadata": {
  "interpreter": {
   "hash": "888503393ada635b10d89ed00b383adbd828b91b35f9284ef75b093a2a978eff"
  },
  "kernelspec": {
   "display_name": "Python 3.9.5 64-bit ('pandas_playground': conda)",
   "name": "python3"
  },
  "language_info": {
   "name": "python",
   "version": ""
  },
  "orig_nbformat": 4
 },
 "nbformat": 4,
 "nbformat_minor": 2
}